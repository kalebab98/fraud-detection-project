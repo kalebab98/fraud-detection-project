{
 "cells": [
  {
   "cell_type": "markdown",
   "id": "a8198fbc",
   "metadata": {},
   "source": [
    "# Task 1: Data Analysis and Preprocessing\n",
    "\n",
    "This notebook covers data loading, cleaning, feature engineering, merging IP-country, and preparing for modeling.\n",
    "\n",
    "---\n",
    "\n",
    "## 1. Imports and Setup\n"
   ]
  },
  {
   "cell_type": "code",
   "execution_count": 1,
   "id": "26f0b917",
   "metadata": {},
   "outputs": [],
   "source": [
    "import pandas as pd\n",
    "import numpy as np\n",
    "import matplotlib.pyplot as plt\n",
    "import seaborn as sns\n",
    "\n",
    "from sklearn.preprocessing import StandardScaler, MinMaxScaler\n",
    "from sklearn.model_selection import train_test_split\n",
    "from sklearn.preprocessing import OneHotEncoder\n",
    "from imblearn.over_sampling import SMOTE\n",
    "\n",
    "import datetime\n",
    "import warnings\n",
    "warnings.filterwarnings(\"ignore\")\n"
   ]
  },
  {
   "cell_type": "markdown",
   "id": "1845f0bf",
   "metadata": {},
   "source": [
    "---\n",
    "\n",
    "## 2. Load Data\n"
   ]
  },
  {
   "cell_type": "code",
   "execution_count": 2,
   "id": "1461e1a3",
   "metadata": {},
   "outputs": [],
   "source": [
    "fraud_data = pd.read_csv('data/Fraud_Data.csv')\n",
    "ip_data = pd.read_csv('data/IpAddress_to_Country.csv')\n",
    "credit_data = pd.read_csv('data/creditcard.csv')\n"
   ]
  },
  {
   "cell_type": "markdown",
   "id": "b56aabee",
   "metadata": {},
   "source": [
    "---\n",
    "\n",
    "## 3. Initial Cleaning\n",
    "- Remove duplicates\n",
    "- Check & fix dtypes\n",
    "- Check missing values\n"
   ]
  },
  {
   "cell_type": "code",
   "execution_count": 3,
   "id": "7d6232e6",
   "metadata": {},
   "outputs": [
    {
     "name": "stdout",
     "output_type": "stream",
     "text": [
      "user_id           0\n",
      "signup_time       0\n",
      "purchase_time     0\n",
      "purchase_value    0\n",
      "device_id         0\n",
      "source            0\n",
      "browser           0\n",
      "sex               0\n",
      "age               0\n",
      "ip_address        0\n",
      "class             0\n",
      "dtype: int64\n",
      "Time      0\n",
      "V1        0\n",
      "V2        0\n",
      "V3        0\n",
      "V4        0\n",
      "V5        0\n",
      "V6        0\n",
      "V7        0\n",
      "V8        0\n",
      "V9        0\n",
      "V10       0\n",
      "V11       0\n",
      "V12       0\n",
      "V13       0\n",
      "V14       0\n",
      "V15       0\n",
      "V16       0\n",
      "V17       0\n",
      "V18       0\n",
      "V19       0\n",
      "V20       0\n",
      "V21       0\n",
      "V22       0\n",
      "V23       0\n",
      "V24       0\n",
      "V25       0\n",
      "V26       0\n",
      "V27       0\n",
      "V28       0\n",
      "Amount    0\n",
      "Class     0\n",
      "dtype: int64\n"
     ]
    }
   ],
   "source": [
    "# Remove duplicates\n",
    "fraud_data.drop_duplicates(inplace=True)\n",
    "credit_data.drop_duplicates(inplace=True)\n",
    "\n",
    "# Convert time columns\n",
    "fraud_data['signup_time'] = pd.to_datetime(fraud_data['signup_time'])\n",
    "fraud_data['purchase_time'] = pd.to_datetime(fraud_data['purchase_time'])\n",
    "\n",
    "# Check missing\n",
    "print(fraud_data.isnull().sum())\n",
    "print(credit_data.isnull().sum())\n"
   ]
  },
  {
   "cell_type": "markdown",
   "id": "7b5d80e5",
   "metadata": {},
   "source": [
    "---\n",
    "\n",
    "## 4. Feature Engineering\n",
    "### a. Time-based Features (Fraud Data)\n",
    "\n"
   ]
  },
  {
   "cell_type": "code",
   "execution_count": 4,
   "id": "893ca89d",
   "metadata": {},
   "outputs": [],
   "source": [
    "fraud_data['time_since_signup'] = (fraud_data['purchase_time'] - fraud_data['signup_time']).dt.total_seconds()\n",
    "fraud_data['hour_of_day'] = fraud_data['purchase_time'].dt.hour\n",
    "fraud_data['day_of_week'] = fraud_data['purchase_time'].dt.dayofweek\n"
   ]
  },
  {
   "cell_type": "markdown",
   "id": "72ff838b",
   "metadata": {},
   "source": [
    "### b. Transaction Frequency Feature\n"
   ]
  },
  {
   "cell_type": "code",
   "execution_count": 5,
   "id": "b552d5fb",
   "metadata": {},
   "outputs": [],
   "source": [
    "tx_freq = fraud_data.groupby('user_id')['purchase_time'].count().rename('user_transaction_count')\n",
    "fraud_data = fraud_data.merge(tx_freq, on='user_id')\n"
   ]
  },
  {
   "cell_type": "markdown",
   "id": "c7d61350",
   "metadata": {},
   "source": [
    "---\n",
    "\n",
    "## 5. IP Geolocation Merge\n",
    "Convert IP to int, merge with range mapping.\n"
   ]
  },
  {
   "cell_type": "code",
   "execution_count": 6,
   "id": "8cdc9525",
   "metadata": {},
   "outputs": [],
   "source": [
    "fraud_data['ip_int'] = fraud_data['ip_address'].astype(int)"
   ]
  },
  {
   "cell_type": "code",
   "execution_count": 7,
   "id": "ecbac394",
   "metadata": {},
   "outputs": [],
   "source": [
    "# --- Data Cleaning and Preprocessing ---\n",
    "\n",
    "# 1. Remove duplicates\n",
    "fraud_data.drop_duplicates(inplace=True)\n",
    "\n",
    "# 2. Convert time columns to datetime\n",
    "fraud_data['signup_time'] = pd.to_datetime(fraud_data['signup_time'])\n",
    "fraud_data['purchase_time'] = pd.to_datetime(fraud_data['purchase_time'])\n",
    "\n",
    "# 3. Handle missing values (if any)\n",
    "# (You already have no missing IPs, but this is good practice)\n",
    "fraud_data = fraud_data[fraud_data['ip_address'].notnull()]\n",
    "\n",
    "# 4. Convert ip_address to integer (accommodating float input)\n",
    "fraud_data['ip_int'] = fraud_data['ip_address'].astype(float).astype(int)\n",
    "\n",
    "# 5. Prepare ip_data for merging\n",
    "ip_data['lower'] = ip_data['lower_bound_ip_address'].astype(int)\n",
    "ip_data['upper'] = ip_data['upper_bound_ip_address'].astype(int)\n",
    "\n",
    "# 6. Map each ip_int to a country\n",
    "def map_ip_to_country(ip):\n",
    "    match = ip_data[(ip_data['lower'] <= ip) & (ip_data['upper'] >= ip)]\n",
    "    return match['country'].values[0] if not match.empty else 'Unknown'\n",
    "\n",
    "fraud_data['country'] = fraud_data['ip_int'].apply(map_ip_to_country)\n",
    "\n",
    "# 7. Feature engineering\n",
    "fraud_data['time_since_signup'] = (fraud_data['purchase_time'] - fraud_data['signup_time']).dt.total_seconds()\n",
    "fraud_data['hour_of_day'] = fraud_data['purchase_time'].dt.hour\n",
    "fraud_data['day_of_week'] = fraud_data['purchase_time'].dt.dayofweek\n",
    "tx_freq = fraud_data.groupby('user_id')['purchase_time'].count().rename('user_transaction_count')\n",
    "fraud_data = fraud_data.merge(tx_freq, on='user_id')\n",
    "\n",
    "# 8. One-hot encoding (including the new 'country' column)\n",
    "fraud_data = pd.get_dummies(fraud_data, columns=['source', 'browser', 'sex', 'country'], drop_first=True)\n",
    "\n",
    "# 9. Scaling numerical features\n",
    "from sklearn.preprocessing import StandardScaler\n",
    "scaler = StandardScaler()\n",
    "fraud_data['purchase_value'] = scaler.fit_transform(fraud_data[['purchase_value']])\n",
    "fraud_data['time_since_signup'] = scaler.fit_transform(fraud_data[['time_since_signup']])\n",
    "\n",
    "# 10. Train-test split and SMOTE (class imbalance handling)\n",
    "from sklearn.model_selection import train_test_split\n",
    "from imblearn.over_sampling import SMOTE\n",
    "X = fraud_data.drop(columns=['class', 'signup_time', 'purchase_time', 'ip_address', 'device_id', 'user_id', 'ip_int'])\n",
    "y = fraud_data['class']\n",
    "X_train, X_test, y_train, y_test = train_test_split(X, y, test_size=0.2, stratify=y, random_state=42)\n",
    "sm = SMOTE(random_state=42)\n",
    "X_train_bal, y_train_bal = sm.fit_resample(X_train, y_train)"
   ]
  },
  {
   "cell_type": "markdown",
   "id": "ce98a7f5",
   "metadata": {},
   "source": [
    "---\n",
    "\n",
    "## 6. Encode Categorical Features\n"
   ]
  },
  {
   "cell_type": "code",
   "execution_count": 8,
   "id": "fd9a1790",
   "metadata": {},
   "outputs": [
    {
     "name": "stdout",
     "output_type": "stream",
     "text": [
      "No categorical columns to encode.\n"
     ]
    }
   ],
   "source": [
    "cols_to_encode = [col for col in ['source', 'browser', 'sex', 'country'] if col in fraud_data.columns]\n",
    "if cols_to_encode:\n",
    "    fraud_data = pd.get_dummies(fraud_data, columns=cols_to_encode, drop_first=True)\n",
    "else:\n",
    "    print(\"No categorical columns to encode.\")"
   ]
  },
  {
   "cell_type": "markdown",
   "id": "d8f473dc",
   "metadata": {},
   "source": [
    "---\n",
    "\n",
    "## 7. Scale Numerical Features\n"
   ]
  },
  {
   "cell_type": "code",
   "execution_count": 9,
   "id": "68aa48e2",
   "metadata": {},
   "outputs": [],
   "source": [
    "scaler = StandardScaler()\n",
    "fraud_data['purchase_value'] = scaler.fit_transform(fraud_data[['purchase_value']])\n",
    "fraud_data['time_since_signup'] = scaler.fit_transform(fraud_data[['time_since_signup']])\n"
   ]
  },
  {
   "cell_type": "markdown",
   "id": "42aaf900",
   "metadata": {},
   "source": [
    "---\n",
    "\n",
    "## 8. Handle Class Imbalance (Fraud_Data)\n",
    "Using SMOTE on the training set.\n"
   ]
  },
  {
   "cell_type": "code",
   "execution_count": 10,
   "id": "69d7f21b",
   "metadata": {},
   "outputs": [
    {
     "name": "stdout",
     "output_type": "stream",
     "text": [
      "class\n",
      "0    109568\n",
      "1     11321\n",
      "Name: count, dtype: int64\n",
      "class\n",
      "0    109568\n",
      "1    109568\n",
      "Name: count, dtype: int64\n"
     ]
    }
   ],
   "source": [
    "X = fraud_data.drop(columns=['class', 'signup_time', 'purchase_time', 'ip_address', 'device_id', 'user_id', 'ip_int'])\n",
    "y = fraud_data['class']\n",
    "\n",
    "X_train, X_test, y_train, y_test = train_test_split(X, y, test_size=0.2, stratify=y, random_state=42)\n",
    "\n",
    "# Apply SMOTE only to train set\n",
    "sm = SMOTE(random_state=42)\n",
    "X_train_bal, y_train_bal = sm.fit_resample(X_train, y_train)\n",
    "\n",
    "# Optional: check distribution\n",
    "print(y_train.value_counts())\n",
    "print(y_train_bal.value_counts())\n"
   ]
  },
  {
   "cell_type": "markdown",
   "id": "bfefe585",
   "metadata": {},
   "source": [
    "---\n",
    "\n",
    "## 9. EDA Plots (Univariate Examples)\n"
   ]
  },
  {
   "cell_type": "code",
   "execution_count": 11,
   "id": "41d94601",
   "metadata": {},
   "outputs": [
    {
     "data": {
      "image/png": "[encoded data removed]",
      "text/plain": [
       "<Figure size 640x480 with 1 Axes>"
      ]
     },
     "metadata": {},
     "output_type": "display_data"
    },
    {
     "data": {
      "image/png": "[encoded data removed]",
      "text/plain": [
       "<Figure size 640x480 with 1 Axes>"
      ]
     },
     "metadata": {},
     "output_type": "display_data"
    },
    {
     "data": {
      "image/png": "[encoded data removed]",
      "text/plain": [
       "<Figure size 640x480 with 1 Axes>"
      ]
     },
     "metadata": {},
     "output_type": "display_data"
    }
   ],
   "source": [
    "sns.countplot(x='class', data=fraud_data)\n",
    "plt.title(\"Fraud Class Distribution\")\n",
    "plt.show()\n",
    "\n",
    "sns.histplot(fraud_data['purchase_value'], bins=50)\n",
    "plt.title(\"Distribution of Purchase Value\")\n",
    "plt.show()\n",
    "\n",
    "sns.boxplot(x='class', y='time_since_signup', data=fraud_data)\n",
    "plt.title(\"Signup-Purchase Time by Class\")\n",
    "plt.show()\n"
   ]
  }
 ],
 "metadata": {
  "kernelspec": {
   "display_name": ".venv",
   "language": "python",
   "name": "python3"
  },
  "language_info": {
   "codemirror_mode": {
    "name": "ipython",
    "version": 3
   },
   "file_extension": ".py",
   "mimetype": "text/x-python",
   "name": "python",
   "nbconvert_exporter": "python",
   "pygments_lexer": "ipython3",
   "version": "3.13.5"
  }
 },
 "nbformat": 4,
 "nbformat_minor": 5
}
